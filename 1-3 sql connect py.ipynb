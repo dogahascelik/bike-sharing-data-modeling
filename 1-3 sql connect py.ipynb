{
 "cells": [
  {
   "cell_type": "markdown",
   "metadata": {
    "id": "-3r1tu41Kw6U"
   },
   "source": [
    "# Connecting Python to SQL"
   ]
  },
  {
   "cell_type": "markdown",
   "metadata": {
    "id": "VgmSkdDDKw6X"
   },
   "source": [
    "In order to make this works correctly,\n",
    "Please install first additional library to your python:\n",
    "- mysql\n",
    "- mysql connector\n",
    "\n",
    "Details here if necessary:\n",
    "https://pynative.com/python-mysql-database-connection/#h-arguments-required-to-connect"
   ]
  },
  {
   "cell_type": "code",
   "execution_count": 1,
   "metadata": {},
   "outputs": [
    {
     "name": "stdout",
     "output_type": "stream",
     "text": [
      "Requirement already satisfied: mysql in c:\\users\\morga\\appdata\\local\\programs\\python\\python311\\lib\\site-packages (0.0.3)\n",
      "Requirement already satisfied: mysqlclient in c:\\users\\morga\\appdata\\local\\programs\\python\\python311\\lib\\site-packages (from mysql) (2.2.6)\n",
      "Note: you may need to restart the kernel to use updated packages.\n",
      "Requirement already satisfied: mysql-connector-python in c:\\users\\morga\\appdata\\local\\programs\\python\\python311\\lib\\site-packages (9.1.0)\n",
      "Note: you may need to restart the kernel to use updated packages.\n",
      "Requirement already satisfied: openpyxl in c:\\users\\morga\\appdata\\local\\programs\\python\\python311\\lib\\site-packages (3.1.5)\n",
      "Requirement already satisfied: et-xmlfile in c:\\users\\morga\\appdata\\local\\programs\\python\\python311\\lib\\site-packages (from openpyxl) (2.0.0)\n",
      "Note: you may need to restart the kernel to use updated packages.\n"
     ]
    }
   ],
   "source": [
    "%pip install mysql\n",
    "%pip install mysql-connector-python\n",
    "%pip install openpyxl"
   ]
  },
  {
   "cell_type": "code",
   "execution_count": 2,
   "metadata": {
    "id": "jHgUAX2BKw6Z"
   },
   "outputs": [],
   "source": [
    "import numpy as np\n",
    "import pandas as pd\n",
    "import mysql.connector\n",
    "from mysql.connector import Error"
   ]
  },
  {
   "cell_type": "markdown",
   "metadata": {
    "id": "x1Z4YBMhKw6a"
   },
   "source": [
    "### Creating here a specific function to get connected to a mysql server\n"
   ]
  },
  {
   "cell_type": "code",
   "execution_count": 3,
   "metadata": {
    "id": "iCDmBBBvKw6b"
   },
   "outputs": [],
   "source": [
    "# Definition of a function to get connected to the server\n",
    "def create_db_connection(host_name, user_name, user_password, db_name):\n",
    "    connection = None\n",
    "    try:\n",
    "        connection = mysql.connector.connect(\n",
    "            host=host_name,\n",
    "            user=user_name,\n",
    "            password=user_password,\n",
    "            database=db_name,\n",
    "            ssl_ca = 'server-ca.pem',\n",
    "            ssl_cert = 'client-cert.pem',\n",
    "            ssl_key = 'client-key.pem'\n",
    "        )\n",
    "        print(\"MySQL Database connection successful\")\n",
    "    except Error as e:\n",
    "        print(\"Error while connecting to MySQL\", e)\n",
    "\n",
    "    return connection"
   ]
  },
  {
   "cell_type": "markdown",
   "metadata": {
    "id": "pt9PL3lPKw6c"
   },
   "source": [
    "### Calling that function using host IP address, user name, password, etc\n",
    "and uploading extracted data from the database into a pandas dataFrame"
   ]
  },
  {
   "cell_type": "code",
   "execution_count": 4,
   "metadata": {
    "colab": {
     "base_uri": "https://localhost:8080/"
    },
    "id": "M2NPuvhTKw6d",
    "outputId": "17302862-9104-493c-e51f-7ff0d69fe977"
   },
   "outputs": [
    {
     "name": "stdout",
     "output_type": "stream",
     "text": [
      "MySQL Database connection successful\n"
     ]
    }
   ],
   "source": [
    "# Server information\n",
    "host_name = '34.155.111.131'\n",
    "user_name ='dmds'\n",
    "user_password ='dmds_sql'\n",
    "# As well as need to specify the name of the database to connect to\n",
    "db_name ='Divvy'\n",
    "\n",
    "# Calling the defined function\n",
    "connection = create_db_connection(host_name, user_name, user_password, db_name)\n"
   ]
  },
  {
   "cell_type": "code",
   "execution_count": 5,
   "metadata": {
    "id": "6TBRb7HRKw6f"
   },
   "outputs": [],
   "source": [
    "# Defining here the sql query you want to run\n",
    "sql_query= \"\"\"select * from Divvy.Trips\"\"\""
   ]
  },
  {
   "cell_type": "code",
   "execution_count": 6,
   "metadata": {
    "colab": {
     "base_uri": "https://localhost:8080/",
     "height": 930
    },
    "id": "wQVquBsNKw6h",
    "outputId": "c9d45861-3520-4af9-e9a6-e73b7c6db618"
   },
   "outputs": [
    {
     "name": "stderr",
     "output_type": "stream",
     "text": [
      "C:\\Users\\morga\\AppData\\Local\\Temp\\ipykernel_9556\\524196652.py:3: UserWarning: pandas only supports SQLAlchemy connectable (engine/connection) or database string URI or sqlite3 DBAPI2 connection. Other DBAPI2 objects are not tested. Please consider using SQLAlchemy.\n",
      "  df = pd.read_sql(sql_query, connection)\n"
     ]
    },
    {
     "data": {
      "text/html": [
       "<div>\n",
       "<style scoped>\n",
       "    .dataframe tbody tr th:only-of-type {\n",
       "        vertical-align: middle;\n",
       "    }\n",
       "\n",
       "    .dataframe tbody tr th {\n",
       "        vertical-align: top;\n",
       "    }\n",
       "\n",
       "    .dataframe thead th {\n",
       "        text-align: right;\n",
       "    }\n",
       "</style>\n",
       "<table border=\"1\" class=\"dataframe\">\n",
       "  <thead>\n",
       "    <tr style=\"text-align: right;\">\n",
       "      <th></th>\n",
       "      <th>trip_id</th>\n",
       "      <th>start_time</th>\n",
       "      <th>end_time</th>\n",
       "      <th>bikeid</th>\n",
       "      <th>tripduration</th>\n",
       "      <th>from_station_id</th>\n",
       "      <th>to_station_id</th>\n",
       "      <th>usertype</th>\n",
       "      <th>gender</th>\n",
       "      <th>birthyear</th>\n",
       "      <th>age</th>\n",
       "    </tr>\n",
       "  </thead>\n",
       "  <tbody>\n",
       "    <tr>\n",
       "      <th>0</th>\n",
       "      <td>17901375</td>\n",
       "      <td>2018-03-17 16:45:13</td>\n",
       "      <td>2018-03-17 16:48:12</td>\n",
       "      <td>5019</td>\n",
       "      <td>179</td>\n",
       "      <td>16</td>\n",
       "      <td>16</td>\n",
       "      <td>Subscriber</td>\n",
       "      <td>Male</td>\n",
       "      <td>1990</td>\n",
       "      <td>None</td>\n",
       "    </tr>\n",
       "    <tr>\n",
       "      <th>1</th>\n",
       "      <td>18744113</td>\n",
       "      <td>2018-06-03 10:09:37</td>\n",
       "      <td>2018-06-03 10:22:48</td>\n",
       "      <td>63</td>\n",
       "      <td>791</td>\n",
       "      <td>232</td>\n",
       "      <td>340</td>\n",
       "      <td>Subscriber</td>\n",
       "      <td>Male</td>\n",
       "      <td>1993</td>\n",
       "      <td>None</td>\n",
       "    </tr>\n",
       "    <tr>\n",
       "      <th>2</th>\n",
       "      <td>18916861</td>\n",
       "      <td>2018-06-13 06:16:29</td>\n",
       "      <td>2018-06-13 06:27:01</td>\n",
       "      <td>5178</td>\n",
       "      <td>632</td>\n",
       "      <td>74</td>\n",
       "      <td>140</td>\n",
       "      <td>Subscriber</td>\n",
       "      <td>Female</td>\n",
       "      <td>1988</td>\n",
       "      <td>None</td>\n",
       "    </tr>\n",
       "    <tr>\n",
       "      <th>3</th>\n",
       "      <td>19573259</td>\n",
       "      <td>2018-07-17 18:03:50</td>\n",
       "      <td>2018-07-17 18:15:59</td>\n",
       "      <td>362</td>\n",
       "      <td>729</td>\n",
       "      <td>43</td>\n",
       "      <td>35</td>\n",
       "      <td>Subscriber</td>\n",
       "      <td>Male</td>\n",
       "      <td>1976</td>\n",
       "      <td>None</td>\n",
       "    </tr>\n",
       "    <tr>\n",
       "      <th>4</th>\n",
       "      <td>18835275</td>\n",
       "      <td>2018-06-07 17:03:00</td>\n",
       "      <td>2018-06-07 17:20:35</td>\n",
       "      <td>478</td>\n",
       "      <td>1055</td>\n",
       "      <td>338</td>\n",
       "      <td>338</td>\n",
       "      <td>Customer</td>\n",
       "      <td>Male</td>\n",
       "      <td>1988</td>\n",
       "      <td>None</td>\n",
       "    </tr>\n",
       "    <tr>\n",
       "      <th>...</th>\n",
       "      <td>...</td>\n",
       "      <td>...</td>\n",
       "      <td>...</td>\n",
       "      <td>...</td>\n",
       "      <td>...</td>\n",
       "      <td>...</td>\n",
       "      <td>...</td>\n",
       "      <td>...</td>\n",
       "      <td>...</td>\n",
       "      <td>...</td>\n",
       "      <td>...</td>\n",
       "    </tr>\n",
       "    <tr>\n",
       "      <th>360303</th>\n",
       "      <td>19079616</td>\n",
       "      <td>2018-06-22 06:23:44</td>\n",
       "      <td>2018-06-22 06:28:47</td>\n",
       "      <td>1262</td>\n",
       "      <td>303</td>\n",
       "      <td>91</td>\n",
       "      <td>283</td>\n",
       "      <td>Subscriber</td>\n",
       "      <td>Male</td>\n",
       "      <td>1960</td>\n",
       "      <td>None</td>\n",
       "    </tr>\n",
       "    <tr>\n",
       "      <th>360304</th>\n",
       "      <td>21628759</td>\n",
       "      <td>2018-12-08 12:18:21</td>\n",
       "      <td>2018-12-08 12:32:36</td>\n",
       "      <td>6240</td>\n",
       "      <td>855</td>\n",
       "      <td>376</td>\n",
       "      <td>217</td>\n",
       "      <td>Subscriber</td>\n",
       "      <td>Male</td>\n",
       "      <td>1953</td>\n",
       "      <td>None</td>\n",
       "    </tr>\n",
       "    <tr>\n",
       "      <th>360305</th>\n",
       "      <td>18146104</td>\n",
       "      <td>2018-04-22 12:33:33</td>\n",
       "      <td>2018-04-22 12:42:31</td>\n",
       "      <td>6014</td>\n",
       "      <td>538</td>\n",
       "      <td>99</td>\n",
       "      <td>47</td>\n",
       "      <td>Customer</td>\n",
       "      <td></td>\n",
       "      <td>0</td>\n",
       "      <td>None</td>\n",
       "    </tr>\n",
       "    <tr>\n",
       "      <th>360306</th>\n",
       "      <td>20241669</td>\n",
       "      <td>2018-08-18 22:58:21</td>\n",
       "      <td>2018-08-19 00:40:53</td>\n",
       "      <td>3768</td>\n",
       "      <td>6152</td>\n",
       "      <td>24</td>\n",
       "      <td>341</td>\n",
       "      <td>Customer</td>\n",
       "      <td></td>\n",
       "      <td>0</td>\n",
       "      <td>None</td>\n",
       "    </tr>\n",
       "    <tr>\n",
       "      <th>360307</th>\n",
       "      <td>20838248</td>\n",
       "      <td>2018-09-21 16:48:25</td>\n",
       "      <td>2018-09-21 16:54:08</td>\n",
       "      <td>4911</td>\n",
       "      <td>343</td>\n",
       "      <td>56</td>\n",
       "      <td>91</td>\n",
       "      <td>Subscriber</td>\n",
       "      <td>Male</td>\n",
       "      <td>1978</td>\n",
       "      <td>None</td>\n",
       "    </tr>\n",
       "  </tbody>\n",
       "</table>\n",
       "<p>360308 rows × 11 columns</p>\n",
       "</div>"
      ],
      "text/plain": [
       "         trip_id          start_time            end_time  bikeid  \\\n",
       "0       17901375 2018-03-17 16:45:13 2018-03-17 16:48:12    5019   \n",
       "1       18744113 2018-06-03 10:09:37 2018-06-03 10:22:48      63   \n",
       "2       18916861 2018-06-13 06:16:29 2018-06-13 06:27:01    5178   \n",
       "3       19573259 2018-07-17 18:03:50 2018-07-17 18:15:59     362   \n",
       "4       18835275 2018-06-07 17:03:00 2018-06-07 17:20:35     478   \n",
       "...          ...                 ...                 ...     ...   \n",
       "360303  19079616 2018-06-22 06:23:44 2018-06-22 06:28:47    1262   \n",
       "360304  21628759 2018-12-08 12:18:21 2018-12-08 12:32:36    6240   \n",
       "360305  18146104 2018-04-22 12:33:33 2018-04-22 12:42:31    6014   \n",
       "360306  20241669 2018-08-18 22:58:21 2018-08-19 00:40:53    3768   \n",
       "360307  20838248 2018-09-21 16:48:25 2018-09-21 16:54:08    4911   \n",
       "\n",
       "        tripduration  from_station_id  to_station_id    usertype  gender  \\\n",
       "0                179               16             16  Subscriber    Male   \n",
       "1                791              232            340  Subscriber    Male   \n",
       "2                632               74            140  Subscriber  Female   \n",
       "3                729               43             35  Subscriber    Male   \n",
       "4               1055              338            338    Customer    Male   \n",
       "...              ...              ...            ...         ...     ...   \n",
       "360303           303               91            283  Subscriber    Male   \n",
       "360304           855              376            217  Subscriber    Male   \n",
       "360305           538               99             47    Customer           \n",
       "360306          6152               24            341    Customer           \n",
       "360307           343               56             91  Subscriber    Male   \n",
       "\n",
       "        birthyear   age  \n",
       "0            1990  None  \n",
       "1            1993  None  \n",
       "2            1988  None  \n",
       "3            1976  None  \n",
       "4            1988  None  \n",
       "...           ...   ...  \n",
       "360303       1960  None  \n",
       "360304       1953  None  \n",
       "360305          0  None  \n",
       "360306          0  None  \n",
       "360307       1978  None  \n",
       "\n",
       "[360308 rows x 11 columns]"
      ]
     },
     "execution_count": 6,
     "metadata": {},
     "output_type": "execute_result"
    }
   ],
   "source": [
    "# Read the sql query and get access to the data from the database\n",
    "if connection.is_connected():\n",
    "    df = pd.read_sql(sql_query, connection)\n",
    "\n",
    "# Display the content of the extracted data\n",
    "df"
   ]
  },
  {
   "cell_type": "code",
   "execution_count": 7,
   "metadata": {},
   "outputs": [
    {
     "data": {
      "text/html": [
       "<div>\n",
       "<style scoped>\n",
       "    .dataframe tbody tr th:only-of-type {\n",
       "        vertical-align: middle;\n",
       "    }\n",
       "\n",
       "    .dataframe tbody tr th {\n",
       "        vertical-align: top;\n",
       "    }\n",
       "\n",
       "    .dataframe thead th {\n",
       "        text-align: right;\n",
       "    }\n",
       "</style>\n",
       "<table border=\"1\" class=\"dataframe\">\n",
       "  <thead>\n",
       "    <tr style=\"text-align: right;\">\n",
       "      <th></th>\n",
       "      <th>tripduration</th>\n",
       "    </tr>\n",
       "    <tr>\n",
       "      <th>age</th>\n",
       "      <th></th>\n",
       "    </tr>\n",
       "  </thead>\n",
       "  <tbody>\n",
       "    <tr>\n",
       "      <th>15</th>\n",
       "      <td>463.000000</td>\n",
       "    </tr>\n",
       "    <tr>\n",
       "      <th>16</th>\n",
       "      <td>1427.232323</td>\n",
       "    </tr>\n",
       "    <tr>\n",
       "      <th>17</th>\n",
       "      <td>1751.880597</td>\n",
       "    </tr>\n",
       "    <tr>\n",
       "      <th>18</th>\n",
       "      <td>1203.189552</td>\n",
       "    </tr>\n",
       "    <tr>\n",
       "      <th>19</th>\n",
       "      <td>1015.258769</td>\n",
       "    </tr>\n",
       "    <tr>\n",
       "      <th>...</th>\n",
       "      <td>...</td>\n",
       "    </tr>\n",
       "    <tr>\n",
       "      <th>79</th>\n",
       "      <td>975.358974</td>\n",
       "    </tr>\n",
       "    <tr>\n",
       "      <th>80</th>\n",
       "      <td>589.000000</td>\n",
       "    </tr>\n",
       "    <tr>\n",
       "      <th>84</th>\n",
       "      <td>895.800000</td>\n",
       "    </tr>\n",
       "    <tr>\n",
       "      <th>85</th>\n",
       "      <td>1102.333333</td>\n",
       "    </tr>\n",
       "    <tr>\n",
       "      <th>87</th>\n",
       "      <td>339.400000</td>\n",
       "    </tr>\n",
       "  </tbody>\n",
       "</table>\n",
       "<p>69 rows × 1 columns</p>\n",
       "</div>"
      ],
      "text/plain": [
       "     tripduration\n",
       "age              \n",
       "15     463.000000\n",
       "16    1427.232323\n",
       "17    1751.880597\n",
       "18    1203.189552\n",
       "19    1015.258769\n",
       "..            ...\n",
       "79     975.358974\n",
       "80     589.000000\n",
       "84     895.800000\n",
       "85    1102.333333\n",
       "87     339.400000\n",
       "\n",
       "[69 rows x 1 columns]"
      ]
     },
     "execution_count": 7,
     "metadata": {},
     "output_type": "execute_result"
    }
   ],
   "source": [
    "# 3-1 plot X:age vs. Y:avg_trip_time\n",
    "# remove trip_id duplicate\n",
    "df = df.drop_duplicates(subset=\"trip_id\")\n",
    "\n",
    "# keep birthyear and tripduration\n",
    "df3 = df[[\"birthyear\", \"tripduration\"]]\n",
    "df3.head(50)\n",
    "\n",
    "\n",
    "# check null: no null\n",
    "#print(df3.isna().sum())\n",
    "\n",
    "\n",
    "# birthyear\n",
    "# remove == 0\n",
    "mask_y_0 = df3[\"birthyear\"]!=0\n",
    "df3 = df3[mask_y_0]\n",
    "\n",
    "\n",
    "# trip range: 61-7173290\n",
    "# remove trip>60*24*365\n",
    "mask_t_minute = df3[\"tripduration\"]<=60*24*365\n",
    "# apply mask\n",
    "df3 = df3[mask_t_minute]\n",
    "\n",
    "\n",
    "# calculate age\n",
    "df3[\"age\"] = 2018-df3[\"birthyear\"]\n",
    "# remove age > 95\n",
    "mask_y_95 = df3[\"age\"]<=95\n",
    "df3 = df3[mask_y_95].sort_values(\"age\", ascending=True)\n",
    "# get average duration per age\n",
    "df3_1 = df3[[\"age\", \"tripduration\"]].groupby(\"age\")[[\"tripduration\"]].mean()\n",
    "df3_1"
   ]
  },
  {
   "cell_type": "code",
   "execution_count": 8,
   "metadata": {},
   "outputs": [
    {
     "data": {
      "text/plain": [
       "age_group\n",
       "10.0      2422\n",
       "20.0    112182\n",
       "30.0    106384\n",
       "40.0     43024\n",
       "50.0     29349\n",
       "60.0     10209\n",
       "70.0       862\n",
       "80.0        17\n",
       "Name: tripduration, dtype: int64"
      ]
     },
     "execution_count": 8,
     "metadata": {},
     "output_type": "execute_result"
    }
   ],
   "source": [
    "# 3-2 groups by every 10 years of age\n",
    "df3_2 = df3[[\"age\", \"tripduration\"]]\n",
    "\n",
    "\n",
    "# apply floor\n",
    "df3_2[\"age_group\"] = np.floor(df3_2[\"age\"]/10)*10\n",
    "# calculate avg duration for each age group\n",
    "df3_2 = df3_2.groupby(\"age_group\")[\"tripduration\"].count()\n",
    "df3_2\n",
    "\n",
    "\n",
    "# export to excel\n",
    "#with pd.ExcelWriter(\"Part3: age vs. duration.xlsx\") as writer:\n",
    "#    df3_1.to_excel(writer, sheet_name=\"age vs. duration\")\n",
    "#    df3_2.to_excel(writer, sheet_name=\"age_group_by_10 vs. duration\")"
   ]
  }
 ],
 "metadata": {
  "colab": {
   "provenance": []
  },
  "kernelspec": {
   "display_name": "Python 3",
   "language": "python",
   "name": "python3"
  },
  "language_info": {
   "codemirror_mode": {
    "name": "ipython",
    "version": 3
   },
   "file_extension": ".py",
   "mimetype": "text/x-python",
   "name": "python",
   "nbconvert_exporter": "python",
   "pygments_lexer": "ipython3",
   "version": "3.11.5"
  }
 },
 "nbformat": 4,
 "nbformat_minor": 4
}
